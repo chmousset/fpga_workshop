{
 "cells": [
  {
   "cell_type": "code",
   "execution_count": null,
   "metadata": {
    "slideshow": {
     "slide_type": "skip"
    }
   },
   "outputs": [],
   "source": [
    "# helpers\n",
    "from migen.fhdl.verilog import convert\n",
    "import tempfile\n",
    "from IPython.display import SVG, display\n",
    "\n",
    "def verilog2blocsvg(vlog):\n",
    "    with open('m.v', 'w') as f:\n",
    "        f.write(str(vlog)) \n",
    "    hideoutput = !symbolator -i m.v\n",
    "    return SVG('m-top.svg')\n",
    "\n",
    "\n",
    "def module2blocsvg(module, ios):\n",
    "    return verilog2svg(convert(m, ios=ios))\n",
    "\n",
    "def str2tmpfile(s, suffix):\n",
    "    with tempfile.NamedTemporaryFile(mode='w', buffering=-1, suffix=suffix, delete=False) as f:\n",
    "        name = f.name\n",
    "        f.write(str(s))\n",
    "    return name"
   ]
  },
  {
   "cell_type": "markdown",
   "metadata": {
    "slideshow": {
     "slide_type": "slide"
    }
   },
   "source": [
    "# What are FPGA?"
   ]
  },
  {
   "cell_type": "markdown",
   "metadata": {
    "slideshow": {
     "slide_type": "fragment"
    }
   },
   "source": [
    "**F**ield **P**rogrammable (logic) **G**ate **A**rray\n",
    "\n",
    "Basically it's a whiteboard on which you can draw (nearly) any kind of logic.\n",
    "Contrary to SoC or CPUs you can buy on the market, where a single CPU runs (almost) sequentially each instruction,  everything can run in parallel in an FPGA.  \n",
    "An FPGA has a grid-like combination of multiple **Logic Cell** (sometimes called Logic Blocks), and more specialized blocks (memory, DSP, interface, clocks)"
   ]
  },
  {
   "cell_type": "markdown",
   "metadata": {
    "slideshow": {
     "slide_type": "subslide"
    }
   },
   "source": [
    "## Lattice's ECP5\n",
    "\n",
    " * Low to mid-range FPGA\n",
    "   * simple, thus easy to master\n",
    "   * affordable (a 6€ FPGA can run Linux on a RISC-V CPU)\n",
    "   * but relatively slow (50-100MHz) and small (25k to 85k logic cells)\n",
    " * The biggest available FPGA with good sopport of 100% FOSS toolchain\n",
    "\n",
    "Let's dig down into the datasheet : http://www.latticesemi.com/-/media/LatticeSemi/Documents/DataSheets/ECP5/FPGA-DS-02012-1-9-ECP5-ECP5G-Family-Data-Sheet.ashx?document_id=50461"
   ]
  },
  {
   "cell_type": "markdown",
   "metadata": {
    "slideshow": {
     "slide_type": "slide"
    }
   },
   "source": [
    "# Hardware Description Language\n",
    "FPGA don't \"run code\", you describe the logic that runs into it (code run sequentially, HDL in parallel).  \n",
    "The toolchain then creates (one of) the configuration that behaves as described.  \n",
    "\n",
    "In the FPGA world, 99% of the logic is either **combinatory** or **synchronous**. They are essentially the same, but the synchronous logic have an extra small memory (flip-flop) that 'lock' the output value and keeps it stable until the next clock cycle.  \n",
    "\n",
    "These flip-flops help closing timing constraints by splitting a long logic path"
   ]
  },
  {
   "cell_type": "markdown",
   "metadata": {
    "slideshow": {
     "slide_type": "subslide"
    }
   },
   "source": [
    "# Workflow\n",
    "Nowadays, most toolchains uses roughly the same steps (and terminology) for building a complete FPGA configuration from an HDL code.\n",
    "   \n",
    "Let's have a look how [symbiflow](https://symbiflow.readthedocs.io/en/latest/toolchain-desc/design-flow.html) does it."
   ]
  },
  {
   "cell_type": "markdown",
   "metadata": {
    "slideshow": {
     "slide_type": "subslide"
    }
   },
   "source": [
    "### 1. Synthesis  \n",
    "   1.1. RTL generation: convert HDL into a machine representation made with abstract blocks (logic, registers) and connection between them. That's *Register-Transfer level*. Some reduction logic optimization are usually aplied at this stage like [truth table reduction](https://learnabout-electronics.org/Digital/dig24.php)   \n",
    "   1.2. Technology mapping : FPGAs comprise different logic elements, or specialized elements like DSP and RAM. At this stage, the toolchain translates the RTL into configured elements, which assembled together behave like the RTL describes it.  \n",
    "   1.3. Optimization : Unused signals and logic are removed. Some toolchains can also merge identical signals from different modules."
   ]
  },
  {
   "cell_type": "markdown",
   "metadata": {
    "slideshow": {
     "slide_type": "subslide"
    }
   },
   "source": [
    "### 2. Place & Route    \n",
    "   2.1. Packing : \"pre-place\" small parts of the design, roughly on the logic-cell level  \n",
    "   2.2. Placing : attributes a physical location to each of the packed pieces. Since routing of signals between cells is limited, this has a big impact on routing quality  \n",
    "   2.3. Routing : the tool has to find a solution that makes all connections successfully, but at the same time it must respect timing criterias (shorter connection is faster)  \n",
    "   2.4. Analysis: checks that the design is valid, that the timing specs are respected "
   ]
  },
  {
   "cell_type": "markdown",
   "metadata": {
    "slideshow": {
     "slide_type": "subslide"
    }
   },
   "source": [
    "# Before we continue, let's install the toolchain for ECP5 / ICE40\n",
    "\n",
    "For Manjaro:\n",
    "```\n",
    "yay boost cmake openocd qt5 libeigen3\n",
    "git clone https://github.com/SymbiFlow/prjtrellis.git # ECP5 'layout' database + bitstream generation tool\n",
    "git clone https://github.com/YosysHQ/nextpnr.git # placer / router \n",
    "git clone https://github.com/YosysHQ/yosys.git # synthetizer\n",
    "cd prjtrellis/libtrellis\n",
    "cmake -DCMAKE_INSTALL_PREFIX=/usr . && make\n",
    "sudo make install\n",
    "cd ../../yosys\n",
    "make\n",
    "sudo make install\n",
    "cd ../nextpnr\n",
    "cmake -DARCH=ecp5 . && make\n",
    "sudo make install\n",
    "pip install git+https://github.com/chmousset/litex.git@faae7fdb5ac23e9dfad31279f90338427bdcb805\n",
    "pip install migen\n",
    "```"
   ]
  },
  {
   "cell_type": "markdown",
   "metadata": {
    "slideshow": {
     "slide_type": "subslide"
    }
   },
   "source": [
    "# Before we continue, let's install the toolchain for ECP5 / ICE40\n",
    "\n",
    "For 'native' Ubuntu users, `https://github.com/ulx3s/ulx3s-toolchain` can be used:\n",
    "```\n",
    "cd ~\n",
    "wget https://raw.githubusercontent.com/ulx3s/ulx3s-toolchain/master/install.sh\n",
    "chmod +x install.sh\n",
    "./install.sh barebones aptget\n",
    "```\n",
    "or, you can use the VM: https://www.dropbox.com/s/s5f4h5gbi9bbg78/fpga_workshop.ova?dl=0  \n",
    "\n",
    "Either way, you will need a fix in LiteX to support the 12k FPGA from the ULX3s:\n",
    "`pip install --user --upgrade git+https://github.com/chmousset/litex@faae7fdb5ac23e9dfad31279f90338427bdcb805`"
   ]
  },
  {
   "cell_type": "code",
   "execution_count": null,
   "metadata": {
    "slideshow": {
     "slide_type": "subslide"
    }
   },
   "outputs": [],
   "source": [
    "# We will create a trivial module to illustrate workflow steps\n",
    "from migen import *\n",
    "from migen.fhdl.verilog import convert\n",
    "\n",
    "class counter(Module):\n",
    "    def __init__(self, width, maxcnt, platform):\n",
    "        self.platform = platform\n",
    "        y = Signal(width)\n",
    "        self.sync += [\n",
    "            If((y == maxcnt-1),\n",
    "              y.eq(0),\n",
    "            ).Else(\n",
    "                y.eq(y+1),\n",
    "            ),\n",
    "        ]\n",
    "        self.ios = {y}\n",
    "\n",
    "m = counter(5, 14, None)\n",
    "vlog = convert(m, ios=m.ios)\n",
    "f_counter = str2tmpfile(vlog, '.v')\n",
    "print(vlog)\n",
    "display(verilog2blocsvg(vlog))"
   ]
  },
  {
   "cell_type": "code",
   "execution_count": null,
   "metadata": {
    "scrolled": true,
    "slideshow": {
     "slide_type": "subslide"
    }
   },
   "outputs": [],
   "source": [
    "# Step 1.1 : RTL generation\n",
    "# We follow techniques from http://www.clifford.at/yosys/files/yosys_appnote_011_design_investigation.pdf\n",
    "ys = \"\"\"\n",
    "    read_verilog {}\n",
    "    show\n",
    "    \"\"\".format(f_counter)\n",
    "a = !yosys {str2tmpfile(ys, '.ys')}\n",
    "print('\\n'.join(a))"
   ]
  },
  {
   "cell_type": "code",
   "execution_count": null,
   "metadata": {
    "slideshow": {
     "slide_type": "subslide"
    }
   },
   "outputs": [],
   "source": [
    "# Step 1.2 : technology mapping (generic)\n",
    "# This replaces the processes in the design with multiplexers, flip-flops and latches.\n",
    "ys = \"\"\"\n",
    "    read_verilog {}\n",
    "    proc\n",
    "    show\n",
    "    \"\"\".format(f_counter)\n",
    "a = !yosys {str2tmpfile(ys, '.ys')}\n",
    "print('\\n'.join(a))"
   ]
  },
  {
   "cell_type": "code",
   "execution_count": null,
   "metadata": {
    "scrolled": true,
    "slideshow": {
     "slide_type": "subslide"
    }
   },
   "outputs": [],
   "source": [
    "# Step 1.3 : Optimization\n",
    "ys = \"\"\"\n",
    "    read_verilog {}\n",
    "    proc\n",
    "    opt\n",
    "    show\n",
    "    \"\"\".format(f_counter)\n",
    "a = !yosys {str2tmpfile(ys, '.ys')}\n",
    "print('\\n'.join(a))"
   ]
  },
  {
   "cell_type": "code",
   "execution_count": null,
   "metadata": {
    "slideshow": {
     "slide_type": "subslide"
    }
   },
   "outputs": [],
   "source": [
    "# Step 2 : pack, place, route\n",
    "!nextpnr-ecp5 --gui --25k --package CABGA381"
   ]
  },
  {
   "cell_type": "markdown",
   "metadata": {
    "slideshow": {
     "slide_type": "slide"
    }
   },
   "source": [
    "# Migen\n",
    "FHDL DSL in Python \"A Python toolbox for building complex digital hardware\"\n",
    "* More restrictive than pure Verilog / VHDL (targeted mostly at FPGA)\n",
    "* HDL itself isn't really better than any other options (except that it lets you do less mistakes)\n",
    "* The true power comes from flexibility and modularity\n",
    "* it's an HDL *generator*!\n",
    "\n",
    "`python -m pip install --user git+https://github.com/m-labs/migen.git`"
   ]
  },
  {
   "cell_type": "markdown",
   "metadata": {
    "slideshow": {
     "slide_type": "subslide"
    }
   },
   "source": [
    "## Modules\n",
    "\n",
    "Combinatory and synchronous logic takes place inside Modules.\n",
    "The 'main' module (called the 'top' module) can have `submodules`, which are also `Module` instances. There can be only a single 'top' module, so your designs is essentially a `Module` tree. Anything outside the tree's `comb` and `sync` won't generate any logic.\n",
    "\n",
    "Module hiearchy helps segmenting and organizing an FPGA design per it's subsystems.\n",
    "\n",
    "NB:  \n",
    "* All of every modules's `comb` and `sync` statements are running in parallel.\n",
    "* Inputs and outputs are not always very clear in Migen. You can put them in constructor argument but you don't have to \n",
    "* Modules are HDL **generators**"
   ]
  },
  {
   "cell_type": "code",
   "execution_count": null,
   "metadata": {
    "slideshow": {
     "slide_type": "subslide"
    }
   },
   "outputs": [],
   "source": [
    "from migen import *\n",
    "\n",
    "class mymodule(Module):\n",
    "    def __init__(self, a, b, difference):\n",
    "        y = Signal()\n",
    "        y_ff = Signal()\n",
    "        self.comb += [\n",
    "            y.eq(a + b),\n",
    "            difference.eq(a-b)\n",
    "        ]\n",
    "        self.sync += [\n",
    "            y_ff.eq(a+b)\n",
    "        ]\n",
    "        useless = Signal() # not used anywhere, won't generate logic\n",
    "        \n",
    "        self.y = y # will be acessible by parent Module\n",
    "        # y_ff is not accessible by parent Module, thus, can't be connected to IOs or other modules.\n",
    "        # it will be removed with its associated logic during the optimization phase"
   ]
  },
  {
   "cell_type": "markdown",
   "metadata": {
    "slideshow": {
     "slide_type": "subslide"
    }
   },
   "source": [
    "# Signals\n",
    "A `Signal` object carries 1 or multiple 'bits' of information.\n",
    " * Fixed size, determined before synthetisation (you know what size it should be beforehand)\n",
    " * Fixed size, determined at synthetisation (the toolchain guesses from where the signal comes from)\n",
    " * Can be signed (optional)\n",
    " * represents either an input, output, the result of a combinatory circuit, or the value of a register (automatically determined by Migen)  \n",
    " * `Constant` is the constant flavor"
   ]
  },
  {
   "cell_type": "code",
   "execution_count": null,
   "metadata": {
    "slideshow": {
     "slide_type": "fragment"
    }
   },
   "outputs": [],
   "source": [
    "from migen import Signal\n",
    "a = Signal() # 1 bit signal\n",
    "b = Signal(2) # 2 bits signal\n",
    "c = Signal(max=32) # 5 bits signal (NOT 6!)\n",
    "print(c, c.nbits)\n",
    "d = Signal(reset=3) # 2 bits signal, reset (default) value set to 3\n",
    "print(d, d.nbits)\n",
    "e = Signal(name=\"mybeautyfulsignal\", max=6)\n",
    "print(e, e.nbits)\n",
    "e = Signal(name=\"mybeautyfulsignedsignal\", min=-6, max=6) # sign takes 1 bit\n",
    "print(e, len(e))\n",
    "f = Signal.like(e)"
   ]
  },
  {
   "cell_type": "markdown",
   "metadata": {
    "slideshow": {
     "slide_type": "subslide"
    }
   },
   "source": [
    "## Slicing\n",
    "Using python slice\n",
    "* `[2]` : select only the 3rd lowest-significant bit\n",
    "* `[0:-4]` : select 1sth lowest, to 4th highest bit\n",
    "* `[1:3]` : select 2nd and 3rd lowest bits (and not 2nd, 3rd and 4th lowest like in Verilog!)\n",
    "* etc"
   ]
  },
  {
   "cell_type": "code",
   "execution_count": null,
   "metadata": {
    "slideshow": {
     "slide_type": "fragment"
    }
   },
   "outputs": [],
   "source": [
    "s = Signal(32, reset=0xdeadbeef)\n",
    "slic = s[0:4]\n",
    "print(slic, len(slic))"
   ]
  },
  {
   "cell_type": "markdown",
   "metadata": {
    "slideshow": {
     "slide_type": "subslide"
    }
   },
   "source": [
    "## Operators\n",
    "`*`, `-`, `and`, `^` etc. can be used directly supported. It creates an `_Operator` object which can be used in place of a `Signal`"
   ]
  },
  {
   "cell_type": "code",
   "execution_count": null,
   "metadata": {
    "slideshow": {
     "slide_type": "fragment"
    }
   },
   "outputs": [],
   "source": [
    "op = a*b + 3\n",
    "print(op.operands, len(op))\n",
    "print(op.operands[0].operands)"
   ]
  },
  {
   "cell_type": "markdown",
   "metadata": {
    "slideshow": {
     "slide_type": "subslide"
    }
   },
   "source": [
    "# Concatenation, Replication\n",
    "`Cat()` stitches multiple `Signals` or `Constant` together.  \n",
    "`Replicate(0, 4)` is equivalent to `Cat(0, 0, 0, 0)`\n",
    "\n",
    "**Concatenation is done from lowest to highest bit, contrary to Verilog's `{}` operator!**\n",
    "\n",
    "```\n",
    "a = Signal() # 1 bit signal\n",
    "b = Signal(2) # 2 bits signal\n",
    "c = Cat(a, b)\n",
    "# c[0] = a\n",
    "# c[1:] = b\n",
    "```"
   ]
  },
  {
   "cell_type": "markdown",
   "metadata": {
    "slideshow": {
     "slide_type": "subslide"
    }
   },
   "source": [
    "## Assignment\n",
    "*It's your `=` from the programming world.* Can only be done inside combinatory or synchronous blocks (otherwise has no effect).\n",
    "\n",
    "**NOTE: assignments are all running in parallel in `sync` blocs!**\n",
    "\n",
    "```\n",
    "sync += [\n",
    "    a.eq(a+1),\n",
    "    b.eq(a),\n",
    "]\n",
    "```\n",
    "is exactly the same as \n",
    "```\n",
    "\n",
    "sync += [\n",
    "    b.eq(a),\n",
    "    a.eq(a+1),\n",
    "]\n",
    "```"
   ]
  },
  {
   "cell_type": "markdown",
   "metadata": {
    "slideshow": {
     "slide_type": "subslide"
    }
   },
   "source": [
    "## If, Elif, Else\n",
    "Functions `If()`, `Elif()` and `Else()` return statement objects.\n",
    "\n",
    "The first parameter of If and Elif is a migen value (`Signal`, `Constant`, `_Slice` etc).\n",
    "The other argument(s) are statements"
   ]
  },
  {
   "cell_type": "code",
   "execution_count": null,
   "metadata": {
    "slideshow": {
     "slide_type": "fragment"
    }
   },
   "outputs": [],
   "source": [
    "If(a == 1,\n",
    "    b.eq(1),\n",
    ").Elif(op > 5,\n",
    "    b.eq(2),\n",
    ").Else(\n",
    "    b.eq(3),\n",
    "    slic.eq(32),\n",
    ")"
   ]
  },
  {
   "cell_type": "code",
   "execution_count": null,
   "metadata": {
    "slideshow": {
     "slide_type": "fragment"
    }
   },
   "outputs": [],
   "source": [
    "If(a,\n",
    "    If(b,\n",
    "        c.eq(1),\n",
    "    ),\n",
    ")"
   ]
  },
  {
   "cell_type": "markdown",
   "metadata": {
    "slideshow": {
     "slide_type": "subslide"
    }
   },
   "source": [
    "## Case, Array, Instance, specials ...\n",
    "=> see FHDL documentation https://m-labs.hk/migen/manual/fhdl.html"
   ]
  },
  {
   "cell_type": "markdown",
   "metadata": {
    "slideshow": {
     "slide_type": "subslide"
    }
   },
   "source": [
    "# Verilog / Migen comparison\n",
    "Let's create a 'BCD to ACSII' converter as an example"
   ]
  },
  {
   "cell_type": "code",
   "execution_count": null,
   "metadata": {
    "slideshow": {
     "slide_type": "subslide"
    }
   },
   "outputs": [],
   "source": [
    "from migen import Module, Case\n",
    "class bcd2ascii_ifs(Module):\n",
    "    def __init__(self, bcd):\n",
    "        self.char = Signal(8)\n",
    "        self.comb += [\n",
    "            self.char.eq(ord('x')), # set the default value to 'undefined' ('high impedance' for external IOs)\n",
    "            If(bcd == 0,\n",
    "                self.char.eq(ord('0'))\n",
    "            ),\n",
    "            If(bcd==1,\n",
    "                self.char.eq(ord('1'))\n",
    "            ),\n",
    "            If(bcd==2,\n",
    "                self.char.eq(ord('2'))\n",
    "            )\n",
    "            # and so on ...\n",
    "        ]\n",
    "\n",
    "# Let's convert this to Verilog!\n",
    "from migen.fhdl.verilog import convert\n",
    "bcd = Signal(4)    # input signal\n",
    "m = bcd2ascii_ifs(bcd) # module instance\n",
    "print(convert(m, ios={m.char, bcd}))"
   ]
  },
  {
   "cell_type": "code",
   "execution_count": null,
   "metadata": {
    "scrolled": true,
    "slideshow": {
     "slide_type": "subslide"
    }
   },
   "outputs": [],
   "source": [
    "from migen import Module, Case\n",
    "class bcd2ascii_case(Module):\n",
    "    def __init__(self, bcd):\n",
    "        self.char = Signal(8)\n",
    "        self.comb += Case(bcd, {i: self.char.eq(ord(c)) for i,c in enumerate(\"0123456789abcdef\")})\n",
    "        # If(bcd == 0, self.char.eq(ord('0'))).Elseif().Elseif()...\n",
    "\n",
    "# Let's convert this to Verilog!\n",
    "from migen.fhdl.verilog import convert\n",
    "bcd = Signal(4)      # input signal\n",
    "m = bcd2ascii_case(bcd) # module instance\n",
    "print(convert(m, ios={m.char, bcd}))"
   ]
  },
  {
   "cell_type": "code",
   "execution_count": null,
   "metadata": {},
   "outputs": [],
   "source": [
    "# We can also use an array defined locally if we don't want the trouble of creating a module\n",
    "bcd_ascii = Array(C(ord(c)) for c in \"0123456789abcdef\")\n",
    "\n",
    "# Let's convert this to Verilog!\n",
    "class top_bcd2ascii_array(Module):\n",
    "    def __init__(self, bcd):\n",
    "        self.char = bcd_ascii[bcd]\n",
    "    \n",
    "from migen.fhdl.verilog import convert\n",
    "bcd = Signal(4)      # input signal\n",
    "m = bcd2ascii_case(bcd) # module instance\n",
    "vlog = convert(m, ios={m.char, bcd})\n",
    "display(verilog2blocsvg(vlog))\n",
    "print(vlog)"
   ]
  },
  {
   "cell_type": "markdown",
   "metadata": {
    "slideshow": {
     "slide_type": "slide"
    }
   },
   "source": [
    "# LiteX\n",
    "'System on Chip' generator\n",
    "* builds over Migen\n",
    "* provides standard building blocks, and ways to put them together (CSR, memories, streams, bus arbiter, PCIe, SATA, SD, UART, ...) in a SoC\n",
    "* generates a Verilog model of your SoC\n",
    "* generates Software headers (.c/.h/.csv) for your peripherals\n",
    "* calls the appropriate FPGA toolchain\n",
    "* can build your Software aswell\n",
    "* has tools to help you debug your SoC (like probing CSR, scoping signals)\n",
    "* helps documenting your peripherals\n",
    "\n",
    "`python -m pip install --user git+https://github.com/enjoy-digital/litex.git`"
   ]
  },
  {
   "cell_type": "markdown",
   "metadata": {
    "slideshow": {
     "slide_type": "slide"
    }
   },
   "source": [
    "![litex_netv](https://raw.githubusercontent.com/enjoy-digital/netv2/master/doc/architecture.png)"
   ]
  },
  {
   "cell_type": "code",
   "execution_count": null,
   "metadata": {},
   "outputs": [],
   "source": []
  },
  {
   "cell_type": "markdown",
   "metadata": {
    "slideshow": {
     "slide_type": "slide"
    }
   },
   "source": [
    "# ULX3S\n",
    "Simple board based on Lattice's ECP5\n",
    "* [mainpage](https://ulx3s.github.io/)\n",
    "![ulx3s](https://ulx3s.github.io/images/ulx3s-v303-ax-top_png_project-main.jpg)"
   ]
  },
  {
   "cell_type": "markdown",
   "metadata": {
    "slideshow": {
     "slide_type": "slide"
    }
   },
   "source": [
    "# Litex ULX3S 'hello world'\n",
    "<strike>Install litex-boards for ULX3S support-\n",
    "\n",
    "`python -m pip install --user git+https://github.com/litex-hub/litex-boards.git`</strike> not required for ulx3s, but if yours is not natively supported in LiteX, have a look here\n",
    "\n",
    "Install `ujprog` (original work https://github.com/f32c/tools but needs patches)\n",
    "```\n",
    "git clone https://github.com/chmousset/f32c-tools.git\n",
    "cd f32c-tools/ujprog\n",
    "mkdir build ; cd build\n",
    "cmake ..\n",
    "make && make install\n",
    "```"
   ]
  },
  {
   "cell_type": "code",
   "execution_count": null,
   "metadata": {
    "slideshow": {
     "slide_type": "slide"
    }
   },
   "outputs": [],
   "source": [
    "# A bit of boilerplate...\n",
    "from migen import * # the FHDL\n",
    "from litex import * # the SoC builder\n",
    "from litex.build.generic_platform import * # so we can use Pins(), etc to extend the platform\n",
    "# the Platform represents the ulx3s 'capabilities', which FPGA brand/type is uses etc\n",
    "from litex.boards.platforms.ulx3s import Platform\n",
    "\n",
    "#import os\n",
    "#os.makedirs('build')\n",
    "\n",
    "def buildplat():\n",
    "    # by default, LiteX uses Lattice's closed-source toolchain.\n",
    "    # ULX3S has 4 FPGA size variants, set 'device' accordingly\n",
    "    plat = Platform(toolchain=\"trellis\", device=\"LFE5U-12F\")\n",
    "\n",
    "    # these IOs should probably be defined by default in litex, but since it's not we have to do it\n",
    "    plat.add_extension([\n",
    "        (\"user_button\", 0, Pins(\"D6\"), IOStandard(\"LVCMOS33\")),  # BTN_PWRn (inverted logic)\n",
    "        (\"user_button\", 1, Pins(\"R1\"), IOStandard(\"LVCMOS33\")),  # FIRE1\n",
    "        (\"user_button\", 2, Pins(\"T1\"), IOStandard(\"LVCMOS33\")),  # FIRE2\n",
    "        (\"user_button\", 3, Pins(\"R18\"), IOStandard(\"LVCMOS33\")), # UP\n",
    "        (\"user_button\", 4, Pins(\"V1\"), IOStandard(\"LVCMOS33\")),  # DOWN\n",
    "        (\"user_button\", 5, Pins(\"U1\"), IOStandard(\"LVCMOS33\")),  # LEFT\n",
    "        (\"user_button\", 6, Pins(\"H16\"), IOStandard(\"LVCMOS33\")), # RIGHT\n",
    "    ])\n",
    "    return plat"
   ]
  },
  {
   "cell_type": "code",
   "execution_count": null,
   "metadata": {
    "slideshow": {
     "slide_type": "slide"
    }
   },
   "outputs": [],
   "source": [
    "# DEMO 1: LED display state of push buttons\n",
    "class hello(Module):\n",
    "    def __init__(self, plat):\n",
    "        self.platform = plat\n",
    "        self.ios = set()\n",
    "        for i in range(7):\n",
    "            led = plat.request(\"user_led\", i)\n",
    "            btn = plat.request(\"user_button\", i)\n",
    "            self.comb += led.eq(btn)\n",
    "            self.ios = self.ios | {led, btn}\n",
    "\n",
    "plat = buildplat()\n",
    "top = hello(plat)\n",
    "vlog = convert(top, ios=top.ios)\n",
    "display(verilog2blocsvg(vlog))\n",
    "print(vlog)"
   ]
  },
  {
   "cell_type": "code",
   "execution_count": null,
   "metadata": {},
   "outputs": [],
   "source": []
  },
  {
   "cell_type": "code",
   "execution_count": null,
   "metadata": {
    "slideshow": {
     "slide_type": "slide"
    }
   },
   "outputs": [],
   "source": [
    " \n",
    "plat = buildplat()\n",
    "b = plat.build(hello(plat), run=True)\n",
    "prog = plat.create_programmer().load_bitstream('build/top.bit')"
   ]
  },
  {
   "cell_type": "code",
   "execution_count": null,
   "metadata": {
    "scrolled": true,
    "slideshow": {
     "slide_type": "slide"
    }
   },
   "outputs": [],
   "source": [
    "# DEMO 2: Binary counter. LED output MSB of the counter\n",
    "class counter(Module):\n",
    "    def __init__(self, plat):\n",
    "        self.platform = plat\n",
    "        counter = Signal(28) # we add 21 bits to slow down the LED frequencies\n",
    "        self.sync += counter.eq(counter + 1) # counter increments each sys_clk rising edge\n",
    "        self.ios = set()\n",
    "        for i in range(8):\n",
    "            led = plat.request(\"user_led\", i)\n",
    "            self.comb += led.eq(counter[-1-i]) # LED represent only the 8 MSb of the counter\n",
    "            self.ios = self.ios | {led}\n",
    "            # self.comb += plat.request(\"user_led\", i).eq(counter[-1-i])\n",
    "\n",
    "plat = buildplat()\n",
    "top = counter(plat)\n",
    "vlog = convert(top, top.ios)\n",
    "display(verilog2blocsvg(vlog))\n",
    "print(vlog)\n",
    "\n",
    "plat = buildplat()\n",
    "b = plat.build(counter(plat), run=True)"
   ]
  },
  {
   "cell_type": "code",
   "execution_count": null,
   "metadata": {},
   "outputs": [],
   "source": [
    "# Let's see how it looks before packing & routing\n",
    "ys = \"\"\"\n",
    "    read_verilog {path}/build/top.v\n",
    "    proc\n",
    "    opt\n",
    "    show\n",
    "    \"\"\".format(path=os.getcwd())\n",
    "a = !yosys {str2tmpfile(ys, '.ys')}"
   ]
  },
  {
   "cell_type": "code",
   "execution_count": null,
   "metadata": {},
   "outputs": [],
   "source": [
    "# Let's see how it looks inside the FPGA\n",
    "ys = \"\"\"\n",
    "    read_verilog {path}/build/top.v\n",
    "    synth_ecp5   -json top.json -top top\n",
    "    show\n",
    "    \"\"\".format(path=os.getcwd())\n",
    "a = !yosys {str2tmpfile(ys, '.ys')}"
   ]
  },
  {
   "cell_type": "code",
   "execution_count": null,
   "metadata": {
    "slideshow": {
     "slide_type": "slide"
    }
   },
   "outputs": [],
   "source": [
    "prog = plat.create_programmer().load_bitstream('build/top.bit')"
   ]
  },
  {
   "cell_type": "markdown",
   "metadata": {
    "slideshow": {
     "slide_type": "slide"
    }
   },
   "source": [
    "\n",
    "# More ressources\n",
    " * Migen Manual : [https://m-labs.hk/migen/manual/](https://m-labs.hk/migen/manual/)\n",
    " * Migen Examples [https://github.com/m-labs/migen/tree/master/examples/basic](https://github.com/m-labs/migen/tree/master/examples/basic)"
   ]
  },
  {
   "cell_type": "code",
   "execution_count": null,
   "metadata": {
    "slideshow": {
     "slide_type": "slide"
    }
   },
   "outputs": [],
   "source": [
    "import qrcode\n",
    "qrcode.make(\"https://github.com/chmousset/fpga_workshop\")"
   ]
  }
 ],
 "metadata": {
  "celltoolbar": "Slideshow",
  "kernelspec": {
   "display_name": "Python 3",
   "language": "python",
   "name": "python3"
  },
  "language_info": {
   "codemirror_mode": {
    "name": "ipython",
    "version": 3
   },
   "file_extension": ".py",
   "mimetype": "text/x-python",
   "name": "python",
   "nbconvert_exporter": "python",
   "pygments_lexer": "ipython3",
   "version": "3.8.6"
  }
 },
 "nbformat": 4,
 "nbformat_minor": 4
}
