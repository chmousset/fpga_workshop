{
 "cells": [
  {
   "cell_type": "markdown",
   "metadata": {
    "slideshow": {
     "slide_type": "slide"
    }
   },
   "source": [
    "# Demystifying GPS\n",
    "A short introduction to GPS technology, and how/why simulate it. "
   ]
  },
  {
   "cell_type": "markdown",
   "metadata": {
    "slideshow": {
     "slide_type": "slide"
    }
   },
   "source": [
    "# Myth or truth?\n",
    "* Any GPS device can be located by a third-party, as the signal it send to the satellites can be intercepted."
   ]
  },
  {
   "cell_type": "markdown",
   "metadata": {
    "slideshow": {
     "slide_type": "fragment"
    }
   },
   "source": [
    "**Myth!** GPS receivers don't need to send data to the satellites to operate. Thus, the GPS device itself cannot be tracked remotely. This was in fact a design requirement for the GPS system!\n",
    "\n",
    "However, hacking a GPS-equipped smartphone could enable someone to locate this device without its owner to be aware of it ;)"
   ]
  },
  {
   "cell_type": "markdown",
   "metadata": {
    "slideshow": {
     "slide_type": "subslide"
    }
   },
   "source": [
    "# Myth or truth?\n",
    "* GPS signal is so weak it has no health effect"
   ]
  },
  {
   "cell_type": "markdown",
   "metadata": {
    "slideshow": {
     "slide_type": "fragment"
    }
   },
   "source": [
    "**True!** It's around -160dB at ground level.\n",
    "Comparatively, a GSM device can emit up to 33dB: that's 10^19 times more powerful!\n",
    "\n",
    "The extreme sensitivity of GPS receivers (1000000 better than GSM for instance) is due to a clever pseudo-random signal correlation that can recover huge transmission error rates."
   ]
  },
  {
   "cell_type": "markdown",
   "metadata": {
    "slideshow": {
     "slide_type": "subslide"
    }
   },
   "source": [
    "# Myth or truth?\n",
    "* GPS is 'encrypted', and changing the encryption key would render all GPS receivers useless"
   ]
  },
  {
   "cell_type": "markdown",
   "metadata": {
    "slideshow": {
     "slide_type": "fragment"
    }
   },
   "source": [
    "**Partially true** GPS satellites broadcast two signals: a 'regular' and a 'precision' one. Only the latter is really encrypted (and reserved to US military use), but the first one can be 'scrambled' to reduce precision to ~100m"
   ]
  },
  {
   "cell_type": "markdown",
   "metadata": {
    "slideshow": {
     "slide_type": "slide"
    }
   },
   "source": [
    "# History\n",
    "\n",
    "Positionnning systems are an old thing - the first lighthouse guided ships to Alexadrie in ~300bc, and before satellite became a thing, humans used a variety of ground-based radio systems to do stuff like bombing each other's countries accurately (WW II).\n",
    "\n",
    "The GPS program was started by the US Dept of Defence in 1973, and was fully operational in 1995.  \n",
    "EU's Galileo started in 2005 and was fully operational in 2016.  \n",
    "Chinas's Beidu started in 2000 with 3 geostationary satelliets but evolved to 33 satellites circulating around earth.  \n",
    "Russia's Glonass started in 1976, but declined in the 90's until 2001 when it was restored to full potential.  \n",
    "India has NAVIC, but is not yet as good as the others.  \n",
    "\n",
    "**Fun fact:** *GPS satellites is a proof of the general relativity theory : time goes slower in a strong gravity field, so the clocks in the GPS satellite appears to run faster when in space (38µs/day). This had to be compensated for, or it would accumuate ~10km error per day!*"
   ]
  },
  {
   "cell_type": "markdown",
   "metadata": {
    "slideshow": {
     "slide_type": "subslide"
    }
   },
   "source": [
    "![sat](IIR-M_2.jpg)\n",
    "https://www.gps.gov/multimedia/images/"
   ]
  },
  {
   "cell_type": "markdown",
   "metadata": {
    "slideshow": {
     "slide_type": "slide"
    }
   },
   "source": [
    "# Positionning principle\n",
    "* All of the 24 (27) GPS satellite have 4 atomic clock, synced to ~10ps from each other\n",
    "* Each satellite broadcast its own time, location, trajectory, and some correction information\n",
    " * ephemeride, broadcasted every 30s, contains precision information of one satellite (valid ~30 minutes)\n",
    " * Almanac, broadcasted every 12.5min, contains coarse information about the whole constellation (valid for couple months)"
   ]
  },
  {
   "cell_type": "markdown",
   "metadata": {
    "slideshow": {
     "slide_type": "fragment"
    }
   },
   "source": [
    "* Since the time at which a signal was **sent** is known, by measuring the time it's **received** we can evaluate time-of-flight of said signal.\n",
    "* We use the time-of-flight to estimate the distance between the obeserver and the satellites (d=t.C)"
   ]
  },
  {
   "cell_type": "markdown",
   "metadata": {
    "slideshow": {
     "slide_type": "subslide"
    }
   },
   "source": [
    "# Trilateration\n",
    "The position of the observer is the intersection of the circles (spheres), centered on each satellite, of which the diameter is the distance from the observer."
   ]
  },
  {
   "cell_type": "code",
   "execution_count": 1,
   "metadata": {
    "slideshow": {
     "slide_type": "skip"
    }
   },
   "outputs": [],
   "source": [
    "def pltinit():\n",
    "    plt.figure(figsize=[8,8])\n",
    "    ax = plt.gca()\n",
    "    ax.cla()\n",
    "    ax.set(xlim=(-3, 3), ylim = (-3, 3))\n",
    "    return ax"
   ]
  },
  {
   "cell_type": "code",
   "execution_count": 2,
   "metadata": {
    "slideshow": {
     "slide_type": "skip"
    }
   },
   "outputs": [],
   "source": [
    "import matplotlib.pyplot as plt\n",
    "import math as m\n",
    "from random import random\n",
    "\n",
    "def trilaterate3():\n",
    "    # Set the figure size as square so we get correct aspect ratio\n",
    "    ax = pltinit()\n",
    "\n",
    "    satx = []\n",
    "    saty = []\n",
    "\n",
    "    for i in range(3):\n",
    "        angle = random() * m.pi - m.pi/2\n",
    "        distance = random() + 1\n",
    "        x = m.sin(angle)*distance\n",
    "        y = m.cos(angle)*distance\n",
    "        satx.append(x)\n",
    "        saty.append(y)\n",
    "\n",
    "        circle1 = plt.Circle((x, y), distance, color='r', fill=False)\n",
    "        ax.add_artist(circle1)\n",
    "    \n",
    "    plt.scatter(0, 0, marker='x', c='black')\n",
    "    plt.scatter(satx, saty, marker='^')"
   ]
  },
  {
   "cell_type": "code",
   "execution_count": 3,
   "metadata": {
    "slideshow": {
     "slide_type": "subslide"
    }
   },
   "outputs": [
    {
     "data": {
      "image/png": "[encoded data removed]",
      "text/plain": [
       "<Figure size 576x576 with 1 Axes>"
      ]
     },
     "metadata": {
      "needs_background": "light"
     },
     "output_type": "display_data"
    }
   ],
   "source": [
    "trilaterate3()"
   ]
  },
  {
   "cell_type": "markdown",
   "metadata": {
    "slideshow": {
     "slide_type": "subslide"
    }
   },
   "source": [
    "# Easy right? Well...\n",
    "![huston](https://media.giphy.com/media/4Hx5nJBfi8FzFWxztb/giphy.gif \"huston\")\n",
    "\n",
    "The receiver's clock is not synchronized with the satellite's clock at startup.  \n",
    "**therefore, absolute distance from the satellite can't be calculated!**"
   ]
  },
  {
   "cell_type": "markdown",
   "metadata": {
    "slideshow": {
     "slide_type": "subslide"
    }
   },
   "source": [
    "# Absolute distance is unknown...\n",
    "But we can tell what's the distance of the satellites **relative to each other**: that's the **pseudoranges**  \n",
    "*Sat1 is 127.431 km further away than Sat2*"
   ]
  },
  {
   "cell_type": "markdown",
   "metadata": {
    "slideshow": {
     "slide_type": "fragment"
    }
   },
   "source": [
    "This complexifies the position calculations a little bit: Instead of two points satisfying the distance to 2 satellites (in 2D), we now have a **parabolic curve.** which satisfies d2=d1+d12"
   ]
  },
  {
   "cell_type": "code",
   "execution_count": 4,
   "metadata": {
    "slideshow": {
     "slide_type": "skip"
    }
   },
   "outputs": [],
   "source": [
    "from math import sqrt\n",
    "# calculate the intersections of two circles\n",
    "def circle_intersection(circle1, circle2):\n",
    "    x1,y1,r1 = circle1\n",
    "    x2,y2,r2 = circle2\n",
    "    # http://stackoverflow.com/a/3349134/798588\n",
    "    dx,dy = x2-x1,y2-y1\n",
    "    d = sqrt(dx*dx+dy*dy)\n",
    "    if d > r1+r2:\n",
    "        print(\"#1\")\n",
    "        return None # no solutions, the circles are separate\n",
    "    if d < abs(r1-r2):\n",
    "        print(\"#2\")\n",
    "        return None # no solutions because one circle is contained within the other\n",
    "    if d == 0 and r1 == r2:\n",
    "        print(\"#3\")\n",
    "        return None # circles are coincident and there are an infinite number of solutions\n",
    "\n",
    "    a = (r1*r1-r2*r2+d*d)/(2*d)\n",
    "    h = sqrt(r1*r1-a*a)\n",
    "    xm = x1 + a*dx/d\n",
    "    ym = y1 + a*dy/d\n",
    "    xs1 = xm + h*dy/d\n",
    "    xs2 = xm - h*dy/d\n",
    "    ys1 = ym - h*dx/d\n",
    "    ys2 = ym + h*dx/d\n",
    "\n",
    "    return (xs1,ys1),(xs2,ys2)\n",
    "\n",
    "# calculates (x, y) coordinates of possible observer's position, up to max_r1 distance\n",
    "def intersect_2sat(sat1, sat2, d12, max_r1):\n",
    "    x1, y1 = sat1\n",
    "    x2, y2 = sat2\n",
    "    dx,dy = x2-x1,y2-y1\n",
    "    d = sqrt(dx*dx+dy*dy) # distance beteen the two satellites\n",
    "    r1=(d-d12)/2 # initial r1 distance\n",
    "    r1 = r1 + 0.00001 # add very small value to compensate for the float calculation error\n",
    "    steps=[r1+sqrt(abs(max_r1 - r1))*i**2/10000 for i in range(100)]\n",
    "    x, y = [], []\n",
    "    for r1 in steps:\n",
    "        i1, i2 = circle_intersection((x1,y1,r1), (x2,y2,r1+d12))\n",
    "        x.insert(0, i1[0]), y.insert(0, i1[1])\n",
    "        x.append(i2[0]), y.append(i2[1])\n",
    "        \n",
    "    return x, y\n",
    "\n",
    "def plot_satellite_intersect(sat1, sat2, d12, color='blue'):\n",
    "    x, y = intersect_2sat(sat1, sat2, d12, 3)\n",
    "    plt.plot(x, y, color=color)\n",
    "\n",
    "def calc_d12(sat1, sat2, pos):\n",
    "    x1, y1 = sat1\n",
    "    x2, y2 = sat2\n",
    "    x, y = pos\n",
    "    return sqrt((x-x2)**2 + (y-y2)**2)-sqrt((x-x1)**2 + (y-y1)**2)\n",
    "\n",
    "def plot_sat_intersect_from_pos(sat1, sat2, pos, color='blue'):\n",
    "    plot_satellite_intersect(sat1, sat2, calc_d12(sat1, sat2, pos), color)\n",
    "\n",
    "def plot_2sat_intersect(max_r1, d12):\n",
    "    ax = pltinit()\n",
    "    sats = [sat1, sat2]\n",
    "    x, y = intersect_2sat(sat1, sat2, d12, max_r1)\n",
    "    plt.plot(x, y)\n",
    "    circle1 = plt.Circle(sat1, max_r1, fill=False)\n",
    "    circle2 = plt.Circle(sat2, max_r1+d12, fill=False)\n",
    "    \n",
    "    # Get intersection points\n",
    "    inter = circle_intersection(sat1 + tuple([max_r1]), sat2 + tuple([max_r1+d12]))\n",
    "    ix, iy = [i[0] for i in inter], [i[1] for i in inter]\n",
    "    plt.scatter(ix, iy, marker='x', color='black')\n",
    "\n",
    "    # plot satellites positions\n",
    "    satx, saty = [s[0] for s in sats], [s[1] for s in sats]\n",
    "    plt.scatter(satx, saty, marker='^')\n",
    "    \n",
    "    ax.add_artist(circle1)\n",
    "    ax.add_artist(circle2)"
   ]
  },
  {
   "cell_type": "code",
   "execution_count": 5,
   "metadata": {
    "slideshow": {
     "slide_type": "skip"
    }
   },
   "outputs": [],
   "source": [
    "sat1 = (-1,0.5)\n",
    "sat2 = (1,0.7)\n",
    "sat3 = (2,0)\n",
    "sats = [sat1, sat2, sat3]\n",
    "pos = (0.2,-0.9)\n",
    "\n",
    "def plot_2d_fix():\n",
    "    pltinit()\n",
    "    plot_sat_intersect_from_pos(sat1, sat2, pos)\n",
    "    plot_sat_intersect_from_pos(sat2, sat3, pos, color='orange')\n",
    "    plt.scatter([s[0] for s in sats], [s[1] for s in sats], marker='^')\n",
    "    plt.scatter(pos[0], pos[1], marker='x', c='black')"
   ]
  },
  {
   "cell_type": "code",
   "execution_count": 6,
   "metadata": {
    "slideshow": {
     "slide_type": "subslide"
    }
   },
   "outputs": [
    {
     "data": {
      "image/png": "[encoded data removed]",
      "text/plain": [
       "<Figure size 576x576 with 1 Axes>"
      ]
     },
     "metadata": {
      "needs_background": "light"
     },
     "output_type": "display_data"
    }
   ],
   "source": [
    "plot_2sat_intersect(0.55, 1)"
   ]
  },
  {
   "cell_type": "code",
   "execution_count": 7,
   "metadata": {
    "slideshow": {
     "slide_type": "subslide"
    }
   },
   "outputs": [
    {
     "data": {
      "image/png": "[encoded data removed]",
      "text/plain": [
       "<Figure size 576x576 with 1 Axes>"
      ]
     },
     "metadata": {
      "needs_background": "light"
     },
     "output_type": "display_data"
    }
   ],
   "source": [
    "plot_2sat_intersect(0.8, 1)"
   ]
  },
  {
   "cell_type": "code",
   "execution_count": 8,
   "metadata": {
    "slideshow": {
     "slide_type": "subslide"
    }
   },
   "outputs": [
    {
     "data": {
      "image/png": "[encoded data removed]",
      "text/plain": [
       "<Figure size 576x576 with 1 Axes>"
      ]
     },
     "metadata": {
      "needs_background": "light"
     },
     "output_type": "display_data"
    }
   ],
   "source": [
    "plot_2sat_intersect(1.4, 1)"
   ]
  },
  {
   "cell_type": "markdown",
   "metadata": {
    "slideshow": {
     "slide_type": "subslide"
    }
   },
   "source": [
    "# Finding the position\n",
    "Using 3 (2D fix) of 4 (3D fix) satellites, we can still find one position that satisfies all those distance conditions"
   ]
  },
  {
   "cell_type": "code",
   "execution_count": 9,
   "metadata": {
    "slideshow": {
     "slide_type": "fragment"
    }
   },
   "outputs": [
    {
     "data": {
      "image/png": "[encoded data removed]",
      "text/plain": [
       "<Figure size 576x576 with 1 Axes>"
      ]
     },
     "metadata": {
      "needs_background": "light"
     },
     "output_type": "display_data"
    }
   ],
   "source": [
    "plot_2d_fix()"
   ]
  },
  {
   "cell_type": "markdown",
   "metadata": {
    "slideshow": {
     "slide_type": "slide"
    }
   },
   "source": [
    "# Implementation\n",
    "While in theory using a 'naive' approach using the minimum of 4 satellites can give a valid 3D fix, in practice it is unsufficient in most scenarios, as the resulting precision suffers from various external factors:\n",
    "* Clock error (like jitter)\n",
    "* position of the satellites (it's not possible to get a valid fix if some satellites are aligned)\n",
    "* surrounding constructions or buildings obscuring or reflecting the satellites' signals (multipath)\n",
    "* EM interferences\n",
    "* 'local' wheather conditions"
   ]
  },
  {
   "cell_type": "code",
   "execution_count": 10,
   "metadata": {
    "slideshow": {
     "slide_type": "subslide"
    }
   },
   "outputs": [
    {
     "data": {
      "text/plain": [
       "<matplotlib.collections.PathCollection at 0x7f480f362550>"
      ]
     },
     "execution_count": 10,
     "metadata": {},
     "output_type": "execute_result"
    },
    {
     "data": {
      "image/png": "[encoded data removed]",
      "text/plain": [
       "<Figure size 576x576 with 1 Axes>"
      ]
     },
     "metadata": {
      "needs_background": "light"
     },
     "output_type": "display_data"
    }
   ],
   "source": [
    "# A small clock error has a little impact if two satellites are well positionned\n",
    "d12, error = 0, 0.1\n",
    "pltinit()\n",
    "plot_satellite_intersect(sat1, sat2, d12)\n",
    "plot_satellite_intersect(sat1, sat2, d12+error, color='orange')\n",
    "plot_satellite_intersect(sat1, sat2, d12-error, color='orange')\n",
    "satx, saty = [s[0] for s in [sat1, sat2]], [s[1] for s in [sat1, sat2]]\n",
    "plt.scatter(satx, saty, marker='^')\n",
    "plt.scatter(0.15, -1, marker='X', color='black')"
   ]
  },
  {
   "cell_type": "code",
   "execution_count": 11,
   "metadata": {
    "slideshow": {
     "slide_type": "subslide"
    }
   },
   "outputs": [
    {
     "data": {
      "text/plain": [
       "<matplotlib.collections.PathCollection at 0x7f480f2b8a00>"
      ]
     },
     "execution_count": 11,
     "metadata": {},
     "output_type": "execute_result"
    },
    {
     "data": {
      "image/png": "[encoded data removed]",
      "text/plain": [
       "<Figure size 576x576 with 1 Axes>"
      ]
     },
     "metadata": {
      "needs_background": "light"
     },
     "output_type": "display_data"
    }
   ],
   "source": [
    "# The same error has a bigger impact if two satellites are aligned\n",
    "d12, error = 1.8, 0.1\n",
    "pltinit()\n",
    "plot_satellite_intersect(sat1, sat2, d12)\n",
    "plot_satellite_intersect(sat1, sat2, d12+error, color='orange')\n",
    "plot_satellite_intersect(sat1, sat2, d12-error, color='orange')\n",
    "satx, saty = [s[0] for s in [sat1, sat2]], [s[1] for s in [sat1, sat2]]\n",
    "plt.scatter(satx, saty, marker='^')\n",
    "plt.scatter(-1.8, -0.38, marker='X', color='black')"
   ]
  },
  {
   "cell_type": "markdown",
   "metadata": {
    "slideshow": {
     "slide_type": "subslide"
    }
   },
   "source": [
    "# Implementation 'tricks'\n",
    "Most state-of-the-art GPS receivers implement one or more of the following 'tricks' to get a better precision\n",
    "* 'smart' satellite selection, to avoid using satellites too close to each other (or aligned)\n",
    "* successive approximation of the position using all 'locked' satellites + error weighing \"à la\" Kalman filter\n",
    "* phased-array antenna to rejet reflexions and jamming signals\n",
    "* sensor fusion with accelerometer, gyroscope and magnetometer (drones, some cars)\n",
    "* Ionosphere error compensation ('dual frequency GNSS')"
   ]
  },
  {
   "cell_type": "markdown",
   "metadata": {
    "slideshow": {
     "slide_type": "fragment"
    }
   },
   "source": [
    "# References\n",
    "* old bug good reference http://web.gps.caltech.edu/classes/ge111/Docs/GPSbasics.pdf\n",
    "* Checkout this badass homemade GPS! http://www.aholme.co.uk/GPS/Main.htm\n",
    "* You can also do your GNSS receiver with an SDR and https://gnss-sdr.org"
   ]
  },
  {
   "cell_type": "markdown",
   "metadata": {
    "slideshow": {
     "slide_type": "slide"
    }
   },
   "source": [
    "# GPS simulation\n",
    "Why?\n",
    "* Hardware design verification (signal path quality, insertion loss, noise immunity)\n",
    "* quality test at manufacturing stage \n",
    "* GPS receiver performance evaluation/comparison (time-to-fix, precision, multipath rejection)\n",
    "* GPS receiver Firmware bug hunting (date & time bugs)\n",
    "* Software testing (even though it's easier to just 'replay' prerecorded NMEA sentences)"
   ]
  },
  {
   "cell_type": "markdown",
   "metadata": {
    "slideshow": {
     "slide_type": "subslide"
    }
   },
   "source": [
    "# GPS simulation for HW verification\n",
    "Ideally, you'd want to do a proper radio design, checking line imedance, matchings etc.  \n",
    "But it requires expensive tools (network analyser) and some information on the RF section of your GPS receiver that might not be easily accessible (NDA)."
   ]
  },
  {
   "cell_type": "markdown",
   "metadata": {
    "slideshow": {
     "slide_type": "fragment"
    }
   },
   "source": [
    "In that case, an easy way to check the performance of your RF section is to use a GPS simulator (which gives a repeatable signal) and a reference \"known good\" implementation of your GPS module.  \n",
    "Using tools like gpsd / gpsmon, you can display the list of 'locked' satellites and their respective **S/N** (signal to noise ratio, in dB). You can also use attenuators to check how low the sensitivity goes before your module can't acquire satellite signal anymore.  \n",
    "This makes for a relatively low complexity test you can perform with affordable equipment."
   ]
  },
  {
   "cell_type": "markdown",
   "metadata": {
    "slideshow": {
     "slide_type": "subslide"
    }
   },
   "source": [
    "# Bug hunting: For GPS, 'Y2K' was April 3, 2019\n",
    "Date is sent as seconds + week number in the GPS data.  \n",
    "Week number being coded on 10 bits, it rolls over every ~19.3 years.  \n",
    "Indeed, this has to be dealth with if you rely on GPS time!  \n",
    "In fact, there was some pretty severe issues last year due to that, like cancelled flights or 'bricked' TOM TOMs"
   ]
  },
  {
   "cell_type": "markdown",
   "metadata": {
    "slideshow": {
     "slide_type": "fragment"
    }
   },
   "source": [
    "Indeed, with a rollover every 20 years, there is no guarantee that the GPS receiver manufacturer has documented how the rollover would happen, nor how it's compensated for (there has already one August 21 to August 22, 1999).\n",
    "And if your GPS receiver is a couple year old, the engineers that wrote its firmware might not be in the same company anymore, so no one know how it works.\n",
    "But no worries, let's check the source code and find for ourselves how rollover is managed!"
   ]
  },
  {
   "cell_type": "markdown",
   "metadata": {
    "slideshow": {
     "slide_type": "fragment"
    }
   },
   "source": [
    "Just kidding, indeed the source code is closed!\n",
    "You really fell for this?"
   ]
  },
  {
   "cell_type": "markdown",
   "metadata": {
    "slideshow": {
     "slide_type": "subslide"
    }
   },
   "source": [
    "# Testing rollover was the last recourse\n",
    "As we did not get an answer from the manufacturer of the specific GPS module on time (before April 2019), we had to test for ourselves. And indeed, we saw that our GPS receiver did rolled back to 1999. We weren't really surprised."
   ]
  },
  {
   "cell_type": "markdown",
   "metadata": {
    "slideshow": {
     "slide_type": "fragment"
    }
   },
   "source": [
    "The thing we did not forsee was that, 4 month later, on some devices the GPS time went from 23:59:59 31/12/99 to... 00:00:00 **31/12/-1**  \n",
    "And since we rely on GPS as one of the sources for precise timing, this caused some issues..."
   ]
  },
  {
   "cell_type": "markdown",
   "metadata": {
    "slideshow": {
     "slide_type": "subslide"
    }
   },
   "source": [
    "![y2k](y2k19.jpg) "
   ]
  },
  {
   "cell_type": "markdown",
   "metadata": {
    "slideshow": {
     "slide_type": "slide"
    }
   },
   "source": [
    "# Simulation tools: professionnal tools\n",
    "Generally expensive, but possibilities are endles (some enable simulating multipath, ionosphere effects, jitter etc). Spectracom GSG-5 is one of these tools. Too expensive to buy (10-30k€) unless you are designing GPS modules for a living, so we rented it (~500€ for 2 months).\n",
    "![spectracom](Spectracom_GSG-5.jpg)"
   ]
  },
  {
   "cell_type": "markdown",
   "metadata": {
    "slideshow": {
     "slide_type": "subslide"
    }
   },
   "source": [
    "# Simulation tools: the 'hacker' way\n",
    "Use a Software Defined Radio with a precise clock reference (150-600€) + attenuator  \n",
    "[gpssim](https://github.com/osqzss/gps-sdr-sim) (FOSS) can be used to generate the 'stream' that the SDR has to send.\n",
    "\n",
    "But there are some 'gotchas':\n",
    "* most SDR have a shitty clock reference (20ppm). As a result, your GPS receiver will have trouble 'locking' on the simulated GPS signal, and might not get a fix at all. Even 0.5ppm clock reference can give poor results if not implemented properly.\n",
    "* RF output power is... hard to estimate. You'll have to buy a couple different attenuators to get the right output power.\n",
    "* gpssim is quite CPU-intensive (forget running this on an rPI). You can save the 'raw' stream to disk though (~1GB/min)"
   ]
  },
  {
   "cell_type": "markdown",
   "metadata": {
    "slideshow": {
     "slide_type": "subslide"
    }
   },
   "source": [
    "# DEMO!"
   ]
  },
  {
   "cell_type": "markdown",
   "metadata": {
    "slideshow": {
     "slide_type": "subslide"
    }
   },
   "source": [
    "# 1. Generate the \"raw\" SDR samples\n",
    "1. Clone & make https://github.com/osqzss/gps-sdr-sim.git\n",
    "2. Download the GPS RINEX file from ftp://cddis.gsfc.nasa.gov/gnss/data/daily/[year]/[day]/[year]n/brdc[day].[year]n (ex: ftp://cddis.gsfc.nasa.gov/gnss/data/daily/2020/001/20n/brdc0010.20n.Z)\n",
    "3. Generate the samples `./gps-sdr-sim -e brdc0100.20n -l 5,5,100 -d 600 -b 8`"
   ]
  },
  {
   "cell_type": "markdown",
   "metadata": {
    "slideshow": {
     "slide_type": "subslide"
    }
   },
   "source": [
    "# 2. Start the ransfer\n",
    "`hackrf_transfer -t gpssim.bin -f 1575420000 -s 2600000 -a 1 -x 0`"
   ]
  },
  {
   "cell_type": "markdown",
   "metadata": {
    "slideshow": {
     "slide_type": "subslide"
    }
   },
   "source": [
    "# 3. Profit!"
   ]
  },
  {
   "cell_type": "code",
   "execution_count": 20,
   "metadata": {
    "slideshow": {
     "slide_type": "-"
    }
   },
   "outputs": [],
   "source": [
    "# Perform a cold start, since the simulation starts from a past state\n",
    "# https://www.st.com/resource/en/user_manual/dm00398983.pdf\n",
    "import serial\n",
    "w = serial.Serial('/dev/ttyUSB0').write(b'$PSTMCOLD\\n')"
   ]
  },
  {
   "cell_type": "markdown",
   "metadata": {
    "slideshow": {
     "slide_type": "-"
    }
   },
   "source": [
    "`gpsmon /dev/ttyUSB0`"
   ]
  },
  {
   "cell_type": "markdown",
   "metadata": {
    "slideshow": {
     "slide_type": "subslide"
    }
   },
   "source": [
    "# Demo references\n",
    "* https://github.com/osqzss/gps-sdr-sim.git\n",
    "* gpsd / gpsmon https://en.wikipedia.org/wiki/Gpsd\n",
    "* HackRF One https://greatscottgadgets.com/hackrf/\n",
    "* ST's TESEO-LIV3F https://www.st.com/en/positioning/teseo-liv3f.html\n",
    "* slides: https://github.com/chmousset/demystifying_gps\n",
    "* 20dB attenuators on [amazon](https://www.amazon.fr/s?k=SMA+attenuator+30dB&__mk_fr_FR=%C3%85M%C3%85%C5%BD%C3%95%C3%91&ref=nb_sb_noss) or [RS components](https://befr.rs-online.com/web/p/rf-attenuators/2859567/)"
   ]
  },
  {
   "cell_type": "code",
   "execution_count": 18,
   "metadata": {
    "slideshow": {
     "slide_type": "subslide"
    }
   },
   "outputs": [
    {
     "data": {
      "image/png": "[encoded data removed]",
      "text/plain": [
       "<qrcode.image.pil.PilImage at 0x7f480f271580>"
      ]
     },
     "execution_count": 18,
     "metadata": {},
     "output_type": "execute_result"
    }
   ],
   "source": [
    "import qrcode\n",
    "qrcode.make(\"https://github.com/chmousset/demystifying_gps\")"
   ]
  }
 ],
 "metadata": {
  "celltoolbar": "Slideshow",
  "kernelspec": {
   "display_name": "Python 3",
   "language": "python",
   "name": "python3"
  },
  "language_info": {
   "codemirror_mode": {
    "name": "ipython",
    "version": 3
   },
   "file_extension": ".py",
   "mimetype": "text/x-python",
   "name": "python",
   "nbconvert_exporter": "python",
   "pygments_lexer": "ipython3",
   "version": "3.8.5"
  }
 },
 "nbformat": 4,
 "nbformat_minor": 4
}
