{
 "cells": [
  {
   "cell_type": "markdown",
   "id": "limited-harvard",
   "metadata": {
    "slideshow": {
     "slide_type": "slide"
    }
   },
   "source": [
    "# FPGA Workshop 2 : Building an SoC\n",
    "Objectives:\n",
    "* Building an SoC\n",
    "* Creating custom peripherals\n",
    "* building and running and software on our SoC"
   ]
  },
  {
   "cell_type": "markdown",
   "id": "careful-banana",
   "metadata": {
    "slideshow": {
     "slide_type": "slide"
    }
   },
   "source": [
    "# Last Episode..."
   ]
  },
  {
   "cell_type": "markdown",
   "id": "absent-prayer",
   "metadata": {
    "slideshow": {
     "slide_type": "subslide"
    }
   },
   "source": [
    "We learnt what an FPGA is\n",
    "<img src=\"files/files/ecp5_block_diagram.png\">"
   ]
  },
  {
   "cell_type": "markdown",
   "id": "rough-banking",
   "metadata": {
    "slideshow": {
     "slide_type": "subslide"
    }
   },
   "source": [
    "We learnt how to write combinatory and synchronous logic in migen"
   ]
  },
  {
   "cell_type": "code",
   "execution_count": 1,
   "id": "warming-studio",
   "metadata": {
    "slideshow": {
     "slide_type": "-"
    }
   },
   "outputs": [],
   "source": [
    "from migen import *\n",
    "\n",
    "class mymodule(Module):\n",
    "    def __init__(self, a, b, difference):\n",
    "        # a and b must be Signal() instances\n",
    "        y = Signal()\n",
    "        y_ff = Signal()\n",
    "        self.comb += [ # combinatorial: 'instantaneous'\n",
    "            y.eq(a + b),\n",
    "            difference.eq(a-b)\n",
    "        ]\n",
    "        self.sync += [ # synchronous: y_ff value is updated on next 'sys_clk' rising edge\n",
    "            y_ff.eq(a+b)\n",
    "        ]\n",
    "        useless = Signal() # not used anywhere, won't generate logic\n",
    "\n",
    "        self.y = y # will be acessible by parent Module\n",
    "        # y_ff is not accessible by parent Module, thus, can't be connected to IOs or other modules.\n",
    "        # it will be removed with its associated logic during the optimization phase"
   ]
  },
  {
   "cell_type": "markdown",
   "id": "brown-garden",
   "metadata": {
    "slideshow": {
     "slide_type": "subslide"
    }
   },
   "source": [
    "We learnt how to describe our system using litex's `Platform` and expand it"
   ]
  },
  {
   "cell_type": "code",
   "execution_count": 2,
   "id": "substantial-monroe",
   "metadata": {
    "slideshow": {
     "slide_type": "-"
    }
   },
   "outputs": [],
   "source": [
    "# the Platform represents the ulx3s 'capabilities', which FPGA brand/type is uses etc\n",
    "from litex_boards.platforms.ulx3s import Platform\n",
    "from litex.build.generic_platform import * # so we can use Pins(), etc to extend the platform\n",
    "\n",
    "def buildplat():\n",
    "    # by default, LiteX uses Lattice's closed-source toolchain.\n",
    "    # ULX3S has 4 FPGA size variants, set 'device' accordingly\n",
    "    plat = Platform(toolchain=\"trellis\", device=\"LFE5U-12F\")\n",
    "\n",
    "    # these IOs should probably be defined by default in litex, but since it's not we have to do it\n",
    "    plat.add_extension([\n",
    "        (\"user_button\", 0, Pins(\"D6\"), IOStandard(\"LVCMOS33\")),  # BTN_PWRn (inverted logic)\n",
    "        (\"user_button\", 1, Pins(\"R1\"), IOStandard(\"LVCMOS33\")),  # FIRE1\n",
    "        (\"user_button\", 2, Pins(\"T1\"), IOStandard(\"LVCMOS33\")),  # FIRE2\n",
    "        (\"user_button\", 3, Pins(\"R18\"), IOStandard(\"LVCMOS33\")), # UP\n",
    "        (\"user_button\", 4, Pins(\"V1\"), IOStandard(\"LVCMOS33\")),  # DOWN\n",
    "        (\"user_button\", 5, Pins(\"U1\"), IOStandard(\"LVCMOS33\")),  # LEFT\n",
    "        (\"user_button\", 6, Pins(\"H16\"), IOStandard(\"LVCMOS33\")), # RIGHT\n",
    "    ])\n",
    "    return plat"
   ]
  },
  {
   "cell_type": "markdown",
   "id": "announced-drain",
   "metadata": {
    "slideshow": {
     "slide_type": "subslide"
    }
   },
   "source": [
    "Then how to request pins, and build the system and load it onto the ULX3s"
   ]
  },
  {
   "cell_type": "code",
   "execution_count": 3,
   "id": "noted-values",
   "metadata": {
    "slideshow": {
     "slide_type": "-"
    }
   },
   "outputs": [],
   "source": [
    "# A bit of boilerplate...\n",
    "from migen import * # the FHDL\n",
    "from litex import * # the SoC builder\n",
    "\n",
    "# DEMO 1: LED display state of push buttons\n",
    "class hello(Module):\n",
    "    def __init__(self, plat):\n",
    "        self.platform = plat\n",
    "        self.ios = set()\n",
    "        for i in range(7):\n",
    "            led = plat.request(\"user_led\", i)\n",
    "            btn = plat.request(\"user_button\", i)\n",
    "            self.comb += led.eq(btn)\n",
    "            self.ios = self.ios | {led, btn}\n",
    "\n",
    "plat = buildplat()\n",
    "b = plat.build(hello(plat), run=True)\n",
    "prog = plat.create_programmer().load_bitstream('build/top.bit')"
   ]
  },
  {
   "cell_type": "markdown",
   "id": "military-arrow",
   "metadata": {
    "slideshow": {
     "slide_type": "slide"
    }
   },
   "source": [
    "# Now, let's make a SoC!\n",
    "\n",
    "System on Chip = CPU + periperals (IOs, accelerators) + memory"
   ]
  },
  {
   "cell_type": "markdown",
   "id": "afraid-schedule",
   "metadata": {
    "slideshow": {
     "slide_type": "-"
    }
   },
   "source": [
    "<img src=\"files/files/precursor-soc-diagram.png\">\n",
    "https://www.crowdsupply.com/sutajio-kosagi/precursor/updates/a-guided-tour-of-the-precursor-system-on-chip-soc"
   ]
  },
  {
   "cell_type": "markdown",
   "id": "entire-integer",
   "metadata": {
    "slideshow": {
     "slide_type": "subslide"
    }
   },
   "source": [
    "# CPU\n",
    "Litex gives a couple of CPUs to try from: vexrisc, lm32, minerva, mor1kx (and a lot more). Most of them use the Risc V ISA but you also find OPEN POWER, OpenRISC or other odball ISA.\n",
    "All of them have a \"wrapper\" which typically contain a CPU-to-wishbone-interface, reset&interrupt signals.\n",
    "\n",
    "We'll be using `vexriscv` CPU, as it's a good performance / size compromize and well supported by other projects like https://github.com/litex-hub/linux-on-litex-vexriscv\n",
    "\n",
    "Its peripherals and memories will be connected through a Wishbone bus, which is a rather simple bus well suited to FPGAs SoC where typically only a few peripherals are connected."
   ]
  },
  {
   "cell_type": "markdown",
   "id": "opposed-joshua",
   "metadata": {
    "slideshow": {
     "slide_type": "subslide"
    }
   },
   "source": [
    "# Memory\n",
    "The ULX3s has a 32MB SDRAM onboard, which can be hooked to the Wishbone bus through a `litedram` core.\n",
    "\n",
    "litex also creates a small ROM and RAM (using FPGA block RAM), which we will need to run the bootloader."
   ]
  },
  {
   "cell_type": "markdown",
   "id": "composed-google",
   "metadata": {
    "slideshow": {
     "slide_type": "subslide"
    }
   },
   "source": [
    "# Peripherals\n",
    "litex provides plenty of useful peripherals, from basic ones like GPIO, UART, SPI, I2C, PWM to more complex peripherals like Ethernet, Framebuffer, PCIe endpoint, USB\n",
    "\n",
    "We'll start with the basics:\n",
    "* an UART, so we can have a serial terminal\n",
    "* a timer\n",
    "* a LED driver\n",
    "\n",
    "We will also create our own peripheral using CSRs to control the LEDs (let's be honest, blinking lights is all that Electronics is for :)"
   ]
  },
  {
   "cell_type": "markdown",
   "id": "toxic-argentina",
   "metadata": {
    "slideshow": {
     "slide_type": "subslide"
    }
   },
   "source": [
    "# Out of the box SoC\n",
    "Fortunately, litex_boards provides a way to build a basic SoC on the ULX3s, without the need for writing any Python code. This is done in litex-boards package: https://github.com/litex-hub/litex-boards/blob/master/litex_boards/targets/ulx3s.py  \n",
    "litex_board can be installed with this command: `pip3 install --user git+https://github.com/litex-hub/litex-boards.git@47faaf20d50e58affda81f611561efdc073c660d`\n",
    "\n",
    "It can be invoqued as a command-line tool. Run the following command (don't forget to source the virtualenv if you used one):  \n",
    "`python -m litex_boards.targets.ulx3s --help`\n",
    "\n",
    "We can build a complete SoC with this command (don't forget to change the device accordingly to the board you have):  \n",
    "`python -m litex_boards.targets.ulx3s --device LFE5U-85F --build`"
   ]
  },
  {
   "cell_type": "markdown",
   "id": "ideal-breakdown",
   "metadata": {
    "slideshow": {
     "slide_type": "fragment"
    }
   },
   "source": [
    "## (optional) Generating documentation\n",
    "Litex can generate the documentation for your SoC. This will require `sphinx` and `spinxconfrib-wavdrom`\n",
    "```\n",
    "pip install sphinx spinxconfrib-wavdrom\n",
    "python -m litex_boards.targets.ulx3s --device LFE5U-85F --no-compile-software --doc\n",
    "python3 -m http.server --directory build/ulx3s/doc/_build/html 8080\n",
    "```\n",
    "Now open http://localhost:8080/"
   ]
  },
  {
   "cell_type": "markdown",
   "id": "scenic-daughter",
   "metadata": {
    "slideshow": {
     "slide_type": "subslide"
    }
   },
   "source": [
    "# Playing with our SoC\n",
    "1. Load the SoC : `python -m litex_boards.targets.ulx3s --no-compile-software --load`\n",
    "2. open a terminal:  `lxterm /dev/ttyUSB0` or `ujprog -t -P /dev/ttyUSB0` or `picocom -b 115200 /dev/ttyUSB0`\n",
    "3. Try reading and writing a couple of CSR  \n",
    "   `mem_write 0xf0000000 0`  \n",
    "   `mem_write 0xf0002000 0x23`  \n",
    "   `leds 3`"
   ]
  },
  {
   "cell_type": "markdown",
   "id": "convertible-evening",
   "metadata": {
    "slideshow": {
     "slide_type": "slide"
    }
   },
   "source": [
    "# Building and running application on the SoC\n",
    "Once again, litex has some useful examples. A port of \"lab004\" firmware from https://github.com/litex-hub/fpga_101 is located in `lab004_firmware` directory.\n",
    "\n",
    "You can build and load it by running:  \n",
    "`cd lab004_firmware && make && lxterm /dev/ttyUSB0 --kernel firmware.bin`"
   ]
  },
  {
   "cell_type": "markdown",
   "id": "fabulous-rescue",
   "metadata": {
    "slideshow": {
     "slide_type": "subslide"
    }
   },
   "source": [
    "```\n",
    "(env) max@LAPTOP-32ULRLMS:~/FPGA/old/fpga_workshop/workshop2$ lxterm /dev/ttyUSB4 --kernel lab004_firmware/firmware.bin\n",
    "\n",
    "        __   _ __      _  __\n",
    "       / /  (_) /____ | |/_/\n",
    "      / /__/ / __/ -_)>  <\n",
    "     /____/_/\\__/\\__/_/|_|\n",
    "   Build your hardware, easily!\n",
    "\n",
    " (c) Copyright 2012-2020 Enjoy-Digital\n",
    " (c) Copyright 2007-2015 M-Labs\n",
    "\n",
    " BIOS built on Mar 25 2021 10:11:52\n",
    " BIOS CRC passed (21ce4340)\n",
    "\n",
    " Migen git sha1: --------\n",
    " LiteX git sha1: 0e7d8219\n",
    "\n",
    "--=============== SoC ==================--\n",
    "CPU:            VexRiscv @ 50MHz\n",
    "BUS:            WISHBONE 32-bit @ 4GiB\n",
    "CSR:            32-bit data\n",
    "ROM:            32KiB\n",
    "SRAM:           8KiB\n",
    "L2:             8KiB\n",
    "SDRAM:          32768KiB 16-bit @ 50MT/s (CL-2 CWL-2)\n",
    "\n",
    "--========== Initialization ============--\n",
    "Initializing SDRAM @0x40000000...\n",
    "Switching SDRAM to software control.\n",
    "Switching SDRAM to hardware control.\n",
    "Memtest at 0x40000000 (2MiB)...\n",
    "   Read: 0x40000000-0x40200000 2MiB\n",
    "Memtest OK\n",
    "  Write speed: 11MiB/s (2Mi\n",
    "   Read speed: 10MiB/s\n",
    "\n",
    "--============== Boot ==================--\n",
    "Booting from serial...\n",
    "Press Q or ESC to abort boot completely.\n",
    "sL5DdSMmkekro\n",
    "[LXTERM] Received firmware download request from the device.\n",
    "[LXTERM] Uploading lab004_firmware/firmware.bin to 0x40000000 (8036 bytes)...\n",
    "[LXTERM] Upload complete (9.8KB/s).\n",
    "[LXTERM] Booting the device.\n",
    "[LXTERM] Done.\n",
    "Executing booted program at 0x40000000\n",
    "\n",
    "--============= Liftoff! ===============--\n",
    "\n",
    "Lab004 - CPU testing software built Mar 25 2021 12:05:41\n",
    "\n",
    "Available commands:\n",
    "help                            - this command\n",
    "reboot                          - reboot CPU\n",
    "led                             - led test\n",
    "RUNTIME>\n",
    "```"
   ]
  },
  {
   "cell_type": "markdown",
   "id": "material-exclusive",
   "metadata": {
    "slideshow": {
     "slide_type": "slide"
    }
   },
   "source": [
    "# Our own peripherals\n",
    "Our ULX3s feels a bit under-used with its deaf buttons, so let's make a simple peripheral to read buttons states."
   ]
  },
  {
   "cell_type": "markdown",
   "id": "exact-holly",
   "metadata": {
    "slideshow": {
     "slide_type": "subslide"
    }
   },
   "source": [
    "## Step 1: create our peripheral\n",
    "We will be using CSR (Control Status Register) to expose the button status on memory-mapped registers"
   ]
  },
  {
   "cell_type": "code",
   "execution_count": 18,
   "id": "cooperative-devon",
   "metadata": {
    "slideshow": {
     "slide_type": "-"
    }
   },
   "outputs": [],
   "source": [
    "# This is our button peripheral\n",
    "from migen import *\n",
    "from litex.soc.interconnect.csr import *\n",
    "\n",
    "class Buttons(Module, AutoCSR):\n",
    "    # our Module inherits AutoCSR, which allows litex to automatically\n",
    "    # gather this module's CSRs and map them\n",
    "    def __init__(self, plat):\n",
    "        button_names = [\"UP\", \"DOWN\", \"LEFT\", \"RIGHT\"]\n",
    "        csrfields = [\n",
    "            CSRField(\n",
    "                name=name,\n",
    "                size=1,\n",
    "                description=\"Button {} state\".format(name),\n",
    "                values = [(\"0\", \"Button not pressed\"), (\"1\", \"Button pressed\")]\n",
    "            ) for name in button_names\n",
    "        ]\n",
    "        self.buttons = CSRStatus(\n",
    "            fields = csrfields,\n",
    "            description = \"Buttons status\"\n",
    "        )\n",
    "        # self.buttons.fields.UP.eq(plat.request(\"button_UP\", 0))\n",
    "        self.comb += [\n",
    "            getattr(self.buttons.fields, name).eq(plat.request(\"button_\"+name, 0))\n",
    "            for i, name in enumerate(button_names)\n",
    "        ]"
   ]
  },
  {
   "cell_type": "markdown",
   "id": "muslim-photograph",
   "metadata": {
    "slideshow": {
     "slide_type": "subslide"
    }
   },
   "source": [
    "## Step 2: make our custom SoC\n",
    "To make a custom SoC, you typically make a derived class from `SoCCore`, and instanciate peripherals in it's constructor.\n",
    "`litex_boards.platforms.ulx3s.Platform` is actually a derived class from `SoCCore`:\n",
    "https://github.com/litex-hub/litex-boards/blob/47faaf20d50e58affda81f611561efdc073c660d/litex_boards/targets/ulx3s.py#L82"
   ]
  },
  {
   "cell_type": "markdown",
   "id": "seasonal-apache",
   "metadata": {
    "slideshow": {
     "slide_type": "subslide"
    }
   },
   "source": [
    "## Step 2: make our custom SoC\n",
    "Since we only want to add our `buttons` peripheral, we can actually create a derived class from `BaseSoc` and save ourselves some code rewrite."
   ]
  },
  {
   "cell_type": "code",
   "execution_count": 1,
   "id": "about-password",
   "metadata": {
    "slideshow": {
     "slide_type": "-"
    }
   },
   "outputs": [],
   "source": [
    "# This is our SoC\n",
    "from litex_boards.targets.ulx3s import BaseSoC as ulx_BaseSoC\n",
    "from litex_boards.platforms.ulx3s import Platform\n",
    "from litex.build.generic_platform import *\n",
    "\n",
    "class BaseSoCf(ulx_BaseSoC):\n",
    "    def __init__(self, **kwargs):\n",
    "        #self.platform = Platform(device=device, revision=revision, toolchain=toolchain)\n",
    "        super().__init__(**kwargs)\n",
    "\n",
    "        # add out missing button IOs\n",
    "        self.platform.add_extension([\n",
    "            (\"button_UP\", 0, Pins(\"R18\"), IOStandard(\"LVCMOS33\")),\n",
    "            (\"button_DOWN\", 0, Pins(\"V1\"), IOStandard(\"LVCMOS33\")),\n",
    "            (\"button_LEFT\", 0, Pins(\"U1\"), IOStandard(\"LVCMOS33\")),\n",
    "            (\"button_RIGHT\", 0, Pins(\"H16\"), IOStandard(\"LVCMOS33\")),\n",
    "        ])\n",
    "        \n",
    "        # instanciate our `Button` module.\n",
    "        # don't forget to add it to `self.submodules` !\n",
    "        self.submodules.buttons = Buttons(self.platform)\n",
    "        # we have to tell litex that our button should be CSR-mapped\n",
    "        # (This can be ommitted if you updated litex today)\n",
    "        self.add_csr(\"buttons\")"
   ]
  },
  {
   "cell_type": "markdown",
   "id": "specific-texas",
   "metadata": {
    "slideshow": {
     "slide_type": "subslide"
    }
   },
   "source": [
    "Now, let's put this in a single file and see how it works\n",
    "\n",
    "```\n",
    "cd button\n",
    "python ./ulx3s.py --doc --build --device LFE5U-12F\n",
    "python3 -m http.server --directory build/ulx3s/doc/_build/html 8080\n",
    "```\n",
    "http://localhost:8080/buttons.html"
   ]
  },
  {
   "cell_type": "markdown",
   "id": "patient-calcium",
   "metadata": {
    "slideshow": {
     "slide_type": "subslide"
    }
   },
   "source": [
    "## Step 3: build the software\n",
    "First, let's have a look at what litex generated for us:\n",
    "```\n",
    "build/ulx3s/software/include/generated/\n",
    "├── csr.h\n",
    "├── git.h\n",
    "├── mem.h\n",
    "├── output_format.ld\n",
    "├── regions.ld\n",
    "├── sdram_phy.h\n",
    "├── soc.h\n",
    "└── variables.mak\n",
    "```\n",
    "notice that `csr.h` now `contains buttons_buttons_read`, `buttons_buttons_up_extract`, etc."
   ]
  },
  {
   "cell_type": "markdown",
   "id": "local-attraction",
   "metadata": {},
   "source": [
    "We can use these macros in our program:\n",
    "```\n",
    "static void button_read(void)\n",
    "{\n",
    "\tprintf(\"Button UP   : %d\\n\", buttons_buttons_up_read());\n",
    "\tprintf(\"Button DOWN : %d\\n\", buttons_buttons_down_read());\n",
    "\tprintf(\"Button LEFT : %d\\n\", buttons_buttons_left_read());\n",
    "\tprintf(\"Button RIGHT: %d\\n\", buttons_buttons_right_read());\n",
    "}\n",
    "```"
   ]
  },
  {
   "cell_type": "markdown",
   "id": "electrical-qatar",
   "metadata": {
    "slideshow": {
     "slide_type": "subslide"
    }
   },
   "source": [
    "Now we can build the firmware and load it:\n",
    "```\n",
    "cd button/firmware\n",
    "make\n",
    "lxterm --kernel firmware.bin /dev/ttyUSB0\n",
    "```\n",
    "either reset the ULX3s or type `serialboot`command"
   ]
  },
  {
   "cell_type": "markdown",
   "id": "generous-ivory",
   "metadata": {
    "slideshow": {
     "slide_type": "subslide"
    }
   },
   "source": [
    "```\n",
    "litex> serialboot\n",
    "Booting from serial...\n",
    "Press Q or ESC to abort boot completely.\n",
    "sL5DdSMmkekro\n",
    "[LXTERM] Received firmware download request from the device.\n",
    "[LXTERM] Uploading firmware.bin to 0x40000000 (8300 bytes)...\n",
    "[LXTERM] Upload complete (9.9KB/s).\n",
    "[LXTERM] Booting the device.\n",
    "[LXTERM] Done.\n",
    "Executing booted program at 0x40000000\n",
    "\n",
    "--============= Liftoff! ===============--\n",
    "\n",
    "Lab004 - CPU testing software built Mar 25 2021 15:15:04\n",
    "\n",
    "Available commands:\n",
    "help                            - this command\n",
    "reboot                          - reboot CPU\n",
    "led                             - led test\n",
    "button                          - read button\n",
    "RUNTIME>button\n",
    "Button UP   : 0\n",
    "Button DOWN : 0\n",
    "Button LEFT : 0\n",
    "Button RIGHT: 0\n",
    "RUNTIME>button\n",
    "Button UP   : 1\n",
    "Button DOWN : 0\n",
    "Button LEFT : 0\n",
    "Button RIGHT: 0\n",
    "RUNTIME>button\n",
    "Button UP   : 1\n",
    "Button DOWN : 1\n",
    "Button LEFT : 0\n",
    "Button RIGHT: 1\n",
    "RUNTIME>\n",
    "``` "
   ]
  },
  {
   "cell_type": "markdown",
   "id": "comic-making",
   "metadata": {
    "slideshow": {
     "slide_type": "subslide"
    }
   },
   "source": [
    "## (optional) export CSR list of generate device tree\n",
    "Litex can also generate CSR lists in various forms (csv, Json, svd). You can generate them by passing the flags `--csr-csv` `--csr-json` etc. to the builder  \n",
    "`python -m litex_boards.targets.ulx3s --device LFE5U-85F --build --csr-json build/csr.json`\n",
    "\n",
    "The CSR CSV can be used by tools like `litex_server` (this tool can connect to a wishbone bridge, so you can interact directly with the wishbone bus from Pyton, on your PC).\n",
    "\n",
    "Once the json is generated, Litex can also generate device tree for linux using command `litex_json2dts`."
   ]
  }
 ],
 "metadata": {
  "celltoolbar": "Slideshow",
  "kernelspec": {
   "display_name": "fpga_env",
   "language": "python",
   "name": "fpga_env"
  },
  "language_info": {
   "codemirror_mode": {
    "name": "ipython",
    "version": 3
   },
   "file_extension": ".py",
   "mimetype": "text/x-python",
   "name": "python",
   "nbconvert_exporter": "python",
   "pygments_lexer": "ipython3",
   "version": "3.8.5"
  }
 },
 "nbformat": 4,
 "nbformat_minor": 5
}
