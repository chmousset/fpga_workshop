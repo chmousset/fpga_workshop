{
 "cells": [
  {
   "cell_type": "markdown",
   "id": "careful-banana",
   "metadata": {
    "slideshow": {
     "slide_type": "slide"
    }
   },
   "source": [
    "# Last Episode..."
   ]
  },
  {
   "cell_type": "markdown",
   "id": "absent-prayer",
   "metadata": {
    "slideshow": {
     "slide_type": "subslide"
    }
   },
   "source": [
    "We learnt what an FPGA is\n",
    "<img src=\"files/files/ecp5_block_diagram.png\">"
   ]
  },
  {
   "cell_type": "markdown",
   "id": "rough-banking",
   "metadata": {
    "slideshow": {
     "slide_type": "subslide"
    }
   },
   "source": [
    "We learnt how to write combinatory and synchronous logic in migen"
   ]
  },
  {
   "cell_type": "code",
   "execution_count": 1,
   "id": "warming-studio",
   "metadata": {
    "slideshow": {
     "slide_type": "fragment"
    }
   },
   "outputs": [],
   "source": [
    "from migen import *\n",
    "\n",
    "class mymodule(Module):\n",
    "    def __init__(self, a, b, difference):\n",
    "        # a and b must be Signal() instances\n",
    "        y = Signal()\n",
    "        y_ff = Signal()\n",
    "        self.comb += [ # combinatorial: 'instantaneous'\n",
    "            y.eq(a + b),\n",
    "            difference.eq(a-b)\n",
    "        ]\n",
    "        self.sync += [ # synchronous: y_ff value is updated on next 'sys_clk' rising edge\n",
    "            y_ff.eq(a+b)\n",
    "        ]\n",
    "        useless = Signal() # not used anywhere, won't generate logic\n",
    "\n",
    "        self.y = y # will be acessible by parent Module\n",
    "        # y_ff is not accessible by parent Module, thus, can't be connected to IOs or other modules.\n",
    "        # it will be removed with its associated logic during the optimization phase"
   ]
  },
  {
   "cell_type": "markdown",
   "id": "brown-garden",
   "metadata": {
    "slideshow": {
     "slide_type": "subslide"
    }
   },
   "source": [
    "We learnt how to describe our system using litex's `Platform` and expand it"
   ]
  },
  {
   "cell_type": "code",
   "execution_count": 9,
   "id": "substantial-monroe",
   "metadata": {
    "slideshow": {
     "slide_type": "fragment"
    }
   },
   "outputs": [
    {
     "ename": "ModuleNotFoundError",
     "evalue": "No module named 'litex_boards'",
     "output_type": "error",
     "traceback": [
      "\u001b[0;31m---------------------------------------------------------------------------\u001b[0m",
      "\u001b[0;31mModuleNotFoundError\u001b[0m                       Traceback (most recent call last)",
      "\u001b[0;32m<ipython-input-9-c459008cb505>\u001b[0m in \u001b[0;36m<module>\u001b[0;34m\u001b[0m\n\u001b[1;32m      1\u001b[0m \u001b[0;31m# the Platform represents the ulx3s 'capabilities', which FPGA brand/type is uses etc\u001b[0m\u001b[0;34m\u001b[0m\u001b[0;34m\u001b[0m\u001b[0;34m\u001b[0m\u001b[0m\n\u001b[0;32m----> 2\u001b[0;31m \u001b[0;32mfrom\u001b[0m \u001b[0mlitex_boards\u001b[0m\u001b[0;34m.\u001b[0m\u001b[0mplatforms\u001b[0m\u001b[0;34m.\u001b[0m\u001b[0mulx3s\u001b[0m \u001b[0;32mimport\u001b[0m \u001b[0mPlatform\u001b[0m\u001b[0;34m\u001b[0m\u001b[0;34m\u001b[0m\u001b[0m\n\u001b[0m\u001b[1;32m      3\u001b[0m \u001b[0;32mfrom\u001b[0m \u001b[0mlitex\u001b[0m\u001b[0;34m.\u001b[0m\u001b[0mbuild\u001b[0m\u001b[0;34m.\u001b[0m\u001b[0mgeneric_platform\u001b[0m \u001b[0;32mimport\u001b[0m \u001b[0;34m*\u001b[0m \u001b[0;31m# so we can use Pins(), etc to extend the platform\u001b[0m\u001b[0;34m\u001b[0m\u001b[0;34m\u001b[0m\u001b[0m\n\u001b[1;32m      4\u001b[0m \u001b[0;34m\u001b[0m\u001b[0m\n\u001b[1;32m      5\u001b[0m \u001b[0;32mdef\u001b[0m \u001b[0mbuildplat\u001b[0m\u001b[0;34m(\u001b[0m\u001b[0;34m)\u001b[0m\u001b[0;34m:\u001b[0m\u001b[0;34m\u001b[0m\u001b[0;34m\u001b[0m\u001b[0m\n",
      "\u001b[0;31mModuleNotFoundError\u001b[0m: No module named 'litex_boards'"
     ]
    }
   ],
   "source": [
    "# the Platform represents the ulx3s 'capabilities', which FPGA brand/type is uses etc\n",
    "from litex_boards.platforms.ulx3s import Platform\n",
    "from litex.build.generic_platform import * # so we can use Pins(), etc to extend the platform\n",
    "\n",
    "def buildplat():\n",
    "    # by default, LiteX uses Lattice's closed-source toolchain.\n",
    "    # ULX3S has 4 FPGA size variants, set 'device' accordingly\n",
    "    plat = Platform(toolchain=\"trellis\", device=\"LFE5U-12F\")\n",
    "\n",
    "    # these IOs should probably be defined by default in litex, but since it's not we have to do it\n",
    "    plat.add_extension([\n",
    "        (\"user_button\", 0, Pins(\"D6\"), IOStandard(\"LVCMOS33\")),  # BTN_PWRn (inverted logic)\n",
    "        (\"user_button\", 1, Pins(\"R1\"), IOStandard(\"LVCMOS33\")),  # FIRE1\n",
    "        (\"user_button\", 2, Pins(\"T1\"), IOStandard(\"LVCMOS33\")),  # FIRE2\n",
    "        (\"user_button\", 3, Pins(\"R18\"), IOStandard(\"LVCMOS33\")), # UP\n",
    "        (\"user_button\", 4, Pins(\"V1\"), IOStandard(\"LVCMOS33\")),  # DOWN\n",
    "        (\"user_button\", 5, Pins(\"U1\"), IOStandard(\"LVCMOS33\")),  # LEFT\n",
    "        (\"user_button\", 6, Pins(\"H16\"), IOStandard(\"LVCMOS33\")), # RIGHT\n",
    "    ])\n",
    "    return plat"
   ]
  },
  {
   "cell_type": "markdown",
   "id": "announced-drain",
   "metadata": {
    "slideshow": {
     "slide_type": "subslide"
    }
   },
   "source": [
    "Then how to request pins, and build the system and load it onto the ULX3s"
   ]
  },
  {
   "cell_type": "code",
   "execution_count": null,
   "id": "noted-values",
   "metadata": {
    "slideshow": {
     "slide_type": "fragment"
    }
   },
   "outputs": [],
   "source": [
    "# A bit of boilerplate...\n",
    "from migen import * # the FHDL\n",
    "from litex import * # the SoC builder\n",
    "\n",
    "# DEMO 1: LED display state of push buttons\n",
    "class hello(Module):\n",
    "    def __init__(self, plat):\n",
    "        self.platform = plat\n",
    "        self.ios = set()\n",
    "        for i in range(7):\n",
    "            led = plat.request(\"user_led\", i)\n",
    "            btn = plat.request(\"user_button\", i)\n",
    "            self.comb += led.eq(btn)\n",
    "            self.ios = self.ios | {led, btn}\n",
    "\n",
    "plat = buildplat()\n",
    "b = plat.build(hello(plat), run=True)\n",
    "prog = plat.create_programmer().load_bitstream('build/top.bit')"
   ]
  },
  {
   "cell_type": "markdown",
   "id": "military-arrow",
   "metadata": {
    "slideshow": {
     "slide_type": "slide"
    }
   },
   "source": [
    "# Now, let's make a SoC!\n",
    "\n",
    "System on Chip = CPU + periperals (IOs, accelerators) + memory"
   ]
  },
  {
   "cell_type": "markdown",
   "id": "afraid-schedule",
   "metadata": {
    "slideshow": {
     "slide_type": "fragment"
    }
   },
   "source": [
    "<img src=\"files/files/precursor-soc-diagram.png\">\n",
    "https://www.crowdsupply.com/sutajio-kosagi/precursor/updates/a-guided-tour-of-the-precursor-system-on-chip-soc"
   ]
  },
  {
   "cell_type": "markdown",
   "id": "entire-integer",
   "metadata": {
    "slideshow": {
     "slide_type": "subslide"
    }
   },
   "source": [
    "## CPU\n",
    "Litex gives a couple of CPUs to try from: vexrisc, lm32, minerva, mor1kx (and a lot more). Most of them use the Risc V ISA but you also find OPEN POWER, OpenRISC or other odball ISA.\n",
    "All of them have a \"wrapper\" which typically contain a CPU-to-wishbone-interface, reset&interrupt signals.\n",
    "\n",
    "We'll be using `vexriscv` CPU, as it's a good performance / size compromize and well supported by other projects like https://github.com/litex-hub/linux-on-litex-vexriscv\n",
    "\n",
    "Its peripherals and memories will be connected through a Wishbone bus, which is a rather simple bus well suited to FPGAs SoC where typically only a few peripherals are connected."
   ]
  },
  {
   "cell_type": "markdown",
   "id": "opposed-joshua",
   "metadata": {
    "slideshow": {
     "slide_type": "subslide"
    }
   },
   "source": [
    "# Memory\n",
    "The ULX3s has a 32MB SDRAM onboard, which can be hooked to the Wishbone bus through a litedram core.\n",
    "\n",
    "litex also creates a small ROM and RAM, which we will need to run the bootloader."
   ]
  },
  {
   "cell_type": "markdown",
   "id": "composed-google",
   "metadata": {
    "slideshow": {
     "slide_type": "subslide"
    }
   },
   "source": [
    "# Peripherals\n",
    "litex provides plenty of useful peripherals, from basic ones like GPIO, UART, SPI, I2C, PWM to more complex peripherals like Ethernet, Framebuffer, PCIe endpoint, USB\n",
    "\n",
    "We'll start with the basics:\n",
    "* an UART, so we can have a serial terminal\n",
    "* a timer\n",
    "* a LED driver\n",
    "\n",
    "We will also create our own peripheral using CSRs to control the LEDs (let's be honest, blinking lights is all that Electronics is for :)"
   ]
  },
  {
   "cell_type": "markdown",
   "id": "toxic-argentina",
   "metadata": {
    "slideshow": {
     "slide_type": "subslide"
    }
   },
   "source": [
    "# Most basic SoC\n",
    "Fortunately, litex_boards provides an ou-of-the-box example for building an SoC on the ULX3s: https://github.com/litex-hub/litex-boards/blob/master/litex_boards/targets/ulx3s.py\n",
    "\n",
    "It can be invoqued as a command-line tool. Run the following command (don't forget to source the virtualenv if you used one):  \n",
    "`python -m litex_boards.targets.ulx3s --help`\n",
    "\n",
    "We can build a complete SoC with this command (don't forget to change the device accordingly to the board you have):  \n",
    "`python -m litex_boards.targets.ulx3s --device LFE5U-85F --build`\n",
    "\n",
    "litex_board can be installed with this command: `pip3 install --user git+https://github.com/litex-hub/litex-boards.git`"
   ]
  },
  {
   "cell_type": "markdown",
   "id": "ideal-breakdown",
   "metadata": {
    "slideshow": {
     "slide_type": "fragment"
    }
   },
   "source": [
    "## Other nice features\n",
    "Litex can generate the documentation for your SoC. This will require `sphinx` and `spinxconfrib-wavdrom`\n",
    "```\n",
    "pip install sphinx spinxconfrib-wavdrom\n",
    "python -m litex_boards.targets.ulx3s --device LFE5U-85F --no-compile-software --doc\n",
    "python3 -m http.server --directory build/ulx3s/doc/_build/html 8080\n",
    "```\n",
    "Now open http://localhost:8080/"
   ]
  },
  {
   "cell_type": "markdown",
   "id": "scenic-daughter",
   "metadata": {
    "slideshow": {
     "slide_type": "subslide"
    }
   },
   "source": [
    "# Playing with our SoC\n",
    "1. Load the SoC : `python -m litex_boards.targets.ulx3s --no-compile-software --load`\n",
    "2. open a terminal:  `lxterm /dev/ttyUSB0` or `ujprog -t -P /dev/ttyUSB0` or `picocom -b 115200 /dev/ttyUSB0`\n",
    "3. Try reading and writing a couple of CSR  \n",
    "   `mem_write 0xf0000000 0`  \n",
    "   `mem_write 0xf0002000 0x23`  \n",
    "   `leds 3`"
   ]
  },
  {
   "cell_type": "markdown",
   "id": "convertible-evening",
   "metadata": {},
   "source": [
    "# Building and running application on the SoC\n",
    "Once again, litex has some useful examples. A port of \"lab004\" firmware from https://github.com/litex-hub/fpga_101 is located in `lab004_firmware` directory.\n",
    "\n",
    "You can build and load it by running:  \n",
    "`cd lab004_firmware && make && lxterm /dev/ttyUSB0 --kernel firmware.bin`"
   ]
  },
  {
   "cell_type": "code",
   "execution_count": null,
   "id": "intermediate-hudson",
   "metadata": {},
   "outputs": [],
   "source": []
  },
  {
   "cell_type": "code",
   "execution_count": null,
   "id": "normal-wisdom",
   "metadata": {},
   "outputs": [],
   "source": []
  },
  {
   "cell_type": "code",
   "execution_count": null,
   "id": "cooperative-devon",
   "metadata": {},
   "outputs": [],
   "source": []
  },
  {
   "cell_type": "code",
   "execution_count": null,
   "id": "italian-anthony",
   "metadata": {},
   "outputs": [],
   "source": []
  },
  {
   "cell_type": "code",
   "execution_count": null,
   "id": "about-password",
   "metadata": {},
   "outputs": [],
   "source": []
  },
  {
   "cell_type": "code",
   "execution_count": null,
   "id": "allied-kelly",
   "metadata": {},
   "outputs": [],
   "source": []
  },
  {
   "cell_type": "code",
   "execution_count": null,
   "id": "owned-portuguese",
   "metadata": {},
   "outputs": [],
   "source": []
  },
  {
   "cell_type": "code",
   "execution_count": null,
   "id": "atomic-affiliation",
   "metadata": {},
   "outputs": [],
   "source": []
  },
  {
   "cell_type": "code",
   "execution_count": null,
   "id": "spectacular-anatomy",
   "metadata": {},
   "outputs": [],
   "source": []
  },
  {
   "cell_type": "code",
   "execution_count": null,
   "id": "inner-carry",
   "metadata": {},
   "outputs": [],
   "source": []
  },
  {
   "cell_type": "code",
   "execution_count": null,
   "id": "junior-environment",
   "metadata": {},
   "outputs": [],
   "source": []
  }
 ],
 "metadata": {
  "celltoolbar": "Slideshow",
  "kernelspec": {
   "display_name": "Python 3",
   "language": "python",
   "name": "python3"
  },
  "language_info": {
   "codemirror_mode": {
    "name": "ipython",
    "version": 3
   },
   "file_extension": ".py",
   "mimetype": "text/x-python",
   "name": "python",
   "nbconvert_exporter": "python",
   "pygments_lexer": "ipython3",
   "version": "3.8.5"
  }
 },
 "nbformat": 4,
 "nbformat_minor": 5
}
